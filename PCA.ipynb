{
 "cells": [
  {
   "cell_type": "code",
   "execution_count": 3,
   "metadata": {},
   "outputs": [
    {
     "name": "stdout",
     "output_type": "stream",
     "text": [
      "Number of Observations:  569\n",
      "Number of Features:  30\n"
     ]
    }
   ],
   "source": [
    "#Import Library\n",
    "from sklearn.decomposition import PCA\n",
    "from sklearn import datasets\n",
    "from sklearn.model_selection import train_test_split\n",
    "\n",
    "import numpy as np\n",
    "import matplotlib.pyplot as plt\n",
    "%matplotlib inline\n",
    "\n",
    "\n",
    "data=datasets.load_breast_cancer()\n",
    "X=data.data\n",
    "\n",
    "\n",
    "print \"Number of Observations: \", X.shape[0]\n",
    "print \"Number of Features: \" ,X.shape[1]\n"
   ]
  },
  {
   "cell_type": "code",
   "execution_count": 12,
   "metadata": {},
   "outputs": [
    {
     "name": "stdout",
     "output_type": "stream",
     "text": [
      "X dimension before dimensionality reduction (PCA):  (569, 30)\n",
      "X dimension after dimensionality Reduction (PCA):  (569, 3)\n"
     ]
    }
   ],
   "source": [
    "# Create PCA obeject \n",
    "pca= decomposition.PCA(n_components=3) #default value of k =min(n_sample, n_features)\n",
    "# Reduced the dimension of training dataset using PCA\n",
    "X_reduced = pca.fit_transform(X)\n",
    "\n",
    "print \"X dimension before dimensionality reduction (PCA): \", X.shape\n",
    "print \"X dimension after dimensionality Reduction (PCA): \" ,X_reduced.shape\n",
    "#Reduced the dimension of test dataset\n",
    "#test_reduced = PCA.transform(test)"
   ]
  }
 ],
 "metadata": {
  "kernelspec": {
   "display_name": "Python 2",
   "language": "python",
   "name": "python2"
  },
  "language_info": {
   "codemirror_mode": {
    "name": "ipython",
    "version": 2
   },
   "file_extension": ".py",
   "mimetype": "text/x-python",
   "name": "python",
   "nbconvert_exporter": "python",
   "pygments_lexer": "ipython2",
   "version": "2.7.12"
  }
 },
 "nbformat": 4,
 "nbformat_minor": 2
}
