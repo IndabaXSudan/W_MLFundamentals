{
 "cells": [
  {
   "cell_type": "code",
   "execution_count": 2,
   "metadata": {},
   "outputs": [
    {
     "name": "stdout",
     "output_type": "stream",
     "text": [
      "Number of Observations:  569\n",
      "Number of Features:  30\n"
     ]
    }
   ],
   "source": [
    "#Import Library\n",
    "from sklearn.cluster import KMeans\n",
    "from sklearn import datasets\n",
    "from sklearn.model_selection import train_test_split\n",
    "\n",
    "import numpy as np\n",
    "import matplotlib.pyplot as plt\n",
    "%matplotlib inline\n",
    "\n",
    "\n",
    "data=datasets.load_breast_cancer()\n",
    "X=data.data\n",
    "\n",
    "\n",
    "print \"Number of Observations: \", X.shape[0]\n",
    "print \"Number of Features: \" ,X.shape[1]\n"
   ]
  },
  {
   "cell_type": "code",
   "execution_count": 6,
   "metadata": {},
   "outputs": [
    {
     "data": {
      "text/plain": [
       "array([[  1.24468918e+01,   1.85046588e+01,   8.03803294e+01,\n",
       "          4.86458118e+02,   9.48157176e-02,   9.04881882e-02,\n",
       "          6.08800016e-02,   3.25494682e-02,   1.77951765e-01,\n",
       "          6.35771765e-02,   3.00681647e-01,   1.21837294e+00,\n",
       "          2.12940400e+00,   2.32080188e+01,   7.17541647e-03,\n",
       "          2.33490235e-02,   2.84143873e-02,   1.05452329e-02,\n",
       "          2.07137600e-02,   3.75171835e-03,   1.38918094e+01,\n",
       "          2.45948235e+01,   9.09125412e+01,   6.04658353e+02,\n",
       "          1.29845529e-01,   2.21074000e-01,   2.14822228e-01,\n",
       "          8.97035082e-02,   2.82468471e-01,   8.32831059e-02],\n",
       "       [  1.83820325e+01,   2.14148780e+01,   1.21238537e+02,\n",
       "          1.05796098e+03,   1.00221870e-01,   1.40414797e-01,\n",
       "          1.58604959e-01,   9.06387805e-02,   1.91033333e-01,\n",
       "          6.06883740e-02,   6.40926016e-01,   1.20443577e+00,\n",
       "          4.50100813e+00,   7.53708943e+01,   6.57197561e-03,\n",
       "          3.09567967e-02,   4.08994309e-02,   1.53647805e-02,\n",
       "          2.00486992e-02,   3.93508943e-03,   2.22162602e+01,\n",
       "          2.86411382e+01,   1.47833333e+02,   1.52278862e+03,\n",
       "          1.39408780e-01,   3.45692358e-01,   4.26761789e-01,\n",
       "          1.81023984e-01,   3.15549593e-01,   8.64585366e-02],\n",
       "       [  2.32147619e+01,   2.27285714e+01,   1.55066667e+02,\n",
       "          1.70276190e+03,   1.05001429e-01,   1.73405714e-01,\n",
       "          2.44971429e-01,   1.35852381e-01,   1.88309524e-01,\n",
       "          5.93747619e-02,   1.13901429e+00,   1.25883333e+00,\n",
       "          8.19842857e+00,   1.81798571e+02,   7.06723810e-03,\n",
       "          3.64780952e-02,   4.95609524e-02,   1.62100000e-02,\n",
       "          1.99633333e-02,   3.84780952e-03,   2.95500000e+01,\n",
       "          3.02228571e+01,   2.00490476e+02,   2.70328571e+03,\n",
       "          1.42195238e-01,   3.90485714e-01,   5.27814286e-01,\n",
       "          2.29571429e-01,   2.94823810e-01,   8.26404762e-02]])"
      ]
     },
     "execution_count": 6,
     "metadata": {},
     "output_type": "execute_result"
    }
   ],
   "source": [
    "k_means_model = KMeans(n_clusters=3, random_state=0)\n",
    "\n",
    "k_means_model.fit(X)\n",
    "\n",
    "k_means_model.labels_\n",
    "k_means_model.cluster_centers_\n",
    "#Predict Output\n",
    "#predicted= model.predict(x_test)"
   ]
  }
 ],
 "metadata": {
  "kernelspec": {
   "display_name": "Python 2",
   "language": "python",
   "name": "python2"
  },
  "language_info": {
   "codemirror_mode": {
    "name": "ipython",
    "version": 2
   },
   "file_extension": ".py",
   "mimetype": "text/x-python",
   "name": "python",
   "nbconvert_exporter": "python",
   "pygments_lexer": "ipython2",
   "version": "2.7.12"
  }
 },
 "nbformat": 4,
 "nbformat_minor": 2
}
